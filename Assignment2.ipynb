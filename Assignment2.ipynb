{
 "cells": [
  {
   "cell_type": "markdown",
   "id": "15d2b4a6-2827-4b27-b6e2-5bfcf876b69f",
   "metadata": {},
   "source": [
    "# Assignment 2"
   ]
  },
  {
   "cell_type": "markdown",
   "id": "ce3299f9-c879-4a6a-b5fe-bcee8ee681d3",
   "metadata": {},
   "source": [
    "\n",
    "## Question 1"
   ]
  },
  {
   "cell_type": "code",
   "execution_count": 31,
   "id": "af5cbf25-7ec7-4c99-8d04-ecbdfb5ca669",
   "metadata": {},
   "outputs": [
    {
     "name": "stdin",
     "output_type": "stream",
     "text": [
      "Enter your age 62\n"
     ]
    },
    {
     "name": "stdout",
     "output_type": "stream",
     "text": [
      "Adult\n"
     ]
    }
   ],
   "source": [
    "Age=int(input(\"Enter your age\"))\n",
    "if Age >=0 and Age <=12:\n",
    "    print(\"Child\")\n",
    "elif Age >=13 and Age <=19:\n",
    "    print(\"Teenagers\")\n",
    "elif Age >=20 and Age <=64:\n",
    "    print(\"Adult\")\n",
    "else: \n",
    "    print(\"Senior\")"
   ]
  },
  {
   "cell_type": "markdown",
   "id": "f7c57d3f-9408-4149-8c5d-5379be7a5b1d",
   "metadata": {},
   "source": [
    "## Question 2"
   ]
  },
  {
   "cell_type": "code",
   "execution_count": 22,
   "id": "7cbe63be-6f8c-446c-b817-731619f9fd26",
   "metadata": {},
   "outputs": [
    {
     "name": "stdin",
     "output_type": "stream",
     "text": [
      "Enter your membership status: regular\n",
      "Enter your purchase amount:  1500\n"
     ]
    },
    {
     "name": "stdout",
     "output_type": "stream",
     "text": [
      "Not eligible for discount\n"
     ]
    }
   ],
   "source": [
    "membership_status = input(\"Enter your membership status:\")\n",
    "purchase_amount =int(input(\"Enter your purchase amount: \" ))\n",
    "\n",
    "if membership_status == \"premium\" and (purchase_amount >=1000):\n",
    "    print(\"Eligible for discount\")\n",
    "elif membership_status ==\"regular\" and purchase_amount >=2000:\n",
    "    print(\"Eligible for discount\")\n",
    "else:\n",
    "    print(\"Not eligible for discount\")"
   ]
  },
  {
   "cell_type": "markdown",
   "id": "48055743-44ce-4d24-8ac6-f68fc112e774",
   "metadata": {},
   "source": [
    "## Question 3"
   ]
  },
  {
   "cell_type": "code",
   "execution_count": 179,
   "id": "46bbe085-05ee-4fac-8e9c-e8a3beef2cb3",
   "metadata": {},
   "outputs": [
    {
     "name": "stdin",
     "output_type": "stream",
     "text": [
      "Enter your Age 20\n",
      "Enter your citizenship non\n"
     ]
    },
    {
     "name": "stdout",
     "output_type": "stream",
     "text": [
      "Not eligible for vote\n"
     ]
    }
   ],
   "source": [
    "Age= int(input(\"Enter your Age\"))\n",
    "Citizenship=input(\"Enter your citizenship\")\n",
    "if Citizenship==\"citizen\" and (Age== 18):\n",
    "    print(\"Eligible for vote\")\n",
    "elif Citizenship==\"citizen\" and (Age== 16): \n",
    "    print(\"Eligible for vote\")\n",
    "else:\n",
    "    print(\"Not eligible for vote\")"
   ]
  },
  {
   "cell_type": "markdown",
   "id": "b048f56b-0e0f-4bd4-b09f-28052e4b0380",
   "metadata": {},
   "source": [
    "## Question 4"
   ]
  },
  {
   "cell_type": "code",
   "execution_count": 177,
   "id": "41d48264-2a14-4608-9665-09876a208153",
   "metadata": {},
   "outputs": [
    {
     "name": "stdin",
     "output_type": "stream",
     "text": [
      "Enter your performance Excellent\n",
      "Enter your years 2\n"
     ]
    },
    {
     "name": "stdout",
     "output_type": "stream",
     "text": [
      "Not eligible for bonus\n"
     ]
    }
   ],
   "source": [
    " performance=input(\"Enter your performance\")\n",
    "years=int(input(\"Enter your years\"))\n",
    "if performance==\"Excellent\" and (years >=5 ):\n",
    "    print(\"Eligible for bonus\")\n",
    "elif performance==\"Good\" and (years >=10):\n",
    "     print(\"Eligible for bonus\")\n",
    "elif performance==\"Satisfactory\" and (years >=15):\n",
    "     print(\"Eligible for bonus\")\n",
    "else:\n",
    "    print(\"Not eligible for bonus\")"
   ]
  },
  {
   "cell_type": "markdown",
   "id": "0c24b93e-a4ba-4cf1-a669-830c875a5bd2",
   "metadata": {},
   "source": [
    "## Question 5"
   ]
  },
  {
   "cell_type": "code",
   "execution_count": 13,
   "id": "bb296d6a-e6e6-434d-8e8b-222f9fac9591",
   "metadata": {},
   "outputs": [],
   "source": [
    "text=\"I'm learning Python programming\""
   ]
  },
  {
   "cell_type": "code",
   "execution_count": 14,
   "id": "b73a78d6-b85d-4dda-bec1-925c9384e7fa",
   "metadata": {},
   "outputs": [
    {
     "name": "stdout",
     "output_type": "stream",
     "text": [
      "Modified text: I'm_learning_Python_programming\n",
      "Number of underscores: 3\n",
      "Position of the first underscore: 3\n"
     ]
    }
   ],
   "source": [
    "modified_text = text.replace(\" \", \"_\")\n",
    "underscore_count = modified_text.count(\"_\")\n",
    "first_underscore_position = modified_text.find(\"_\")\n",
    "print(\"Modified text:\", modified_text)\n",
    "print(\"Number of underscores:\", underscore_count)\n",
    "print(\"Position of the first underscore:\", first_underscore_position)\n"
   ]
  },
  {
   "cell_type": "markdown",
   "id": "7fe171bf-a83e-4bf9-9ed6-c4b8756c287a",
   "metadata": {},
   "source": [
    "## Question 6"
   ]
  },
  {
   "cell_type": "code",
   "execution_count": 205,
   "id": "24a7af3f-eb96-47a0-bc76-6338733881a8",
   "metadata": {},
   "outputs": [],
   "source": [
    "String=\"Hello Friends\""
   ]
  },
  {
   "cell_type": "code",
   "execution_count": 206,
   "id": "40b90d18-8278-4f0b-8dd6-1879e82aface",
   "metadata": {},
   "outputs": [
    {
     "data": {
      "text/plain": [
       "'Hello Frie'"
      ]
     },
     "execution_count": 206,
     "metadata": {},
     "output_type": "execute_result"
    }
   ],
   "source": [
    "String[:-3]"
   ]
  },
  {
   "cell_type": "code",
   "execution_count": 207,
   "id": "00e075a3-7df6-457f-9d14-a634e68cba5d",
   "metadata": {},
   "outputs": [
    {
     "data": {
      "text/plain": [
       "'HloFins'"
      ]
     },
     "execution_count": 207,
     "metadata": {},
     "output_type": "execute_result"
    }
   ],
   "source": [
    "String[::2]"
   ]
  },
  {
   "cell_type": "code",
   "execution_count": 211,
   "id": "6410479b-40dd-47b9-8ee3-b291a570d9bc",
   "metadata": {},
   "outputs": [
    {
     "data": {
      "text/plain": [
       "'sdneirF olleH'"
      ]
     },
     "execution_count": 211,
     "metadata": {},
     "output_type": "execute_result"
    }
   ],
   "source": [
    "String[::-1]\n"
   ]
  },
  {
   "cell_type": "markdown",
   "id": "068fe017-e6cd-42bf-95c6-2f6fa99e9cbe",
   "metadata": {},
   "source": [
    "## Question 7"
   ]
  },
  {
   "cell_type": "code",
   "execution_count": 136,
   "id": "8e8de827-f264-4d55-8344-ef2e90dcb799",
   "metadata": {},
   "outputs": [],
   "source": [
    "t=\"Hello World , We are learning Python\"[::-1]"
   ]
  },
  {
   "cell_type": "code",
   "execution_count": 137,
   "id": "faeab23c-cfe4-414b-a07b-2acf7f9c615f",
   "metadata": {},
   "outputs": [
    {
     "name": "stdout",
     "output_type": "stream",
     "text": [
      "nohtyP gninrael era eW , dlroW olleH\n"
     ]
    }
   ],
   "source": [
    "print(t)"
   ]
  },
  {
   "cell_type": "markdown",
   "id": "fe21610c-74e9-4804-a517-d76eb0ace225",
   "metadata": {},
   "source": [
    "## Question 8"
   ]
  },
  {
   "cell_type": "code",
   "execution_count": 119,
   "id": "ca9daa9f-9dda-4eaf-a3bf-4d94d1a693a2",
   "metadata": {},
   "outputs": [
    {
     "name": "stdout",
     "output_type": "stream",
     "text": [
      "12345-XYZ\n",
      "12345\n"
     ]
    }
   ],
   "source": [
    "pc=\"SKU-12345-XYZ\"\n",
    "x = pc.removeprefix('SKU-')\n",
    "# pc.removesuffix('-XYZ')\n",
    "print(x)\n",
    "x = x.removesuffix('-XYZ')\n",
    "print(x)"
   ]
  },
  {
   "cell_type": "code",
   "execution_count": 120,
   "id": "9766e1cc-01f4-4513-bf19-5e2513591d99",
   "metadata": {},
   "outputs": [
    {
     "name": "stdout",
     "output_type": "stream",
     "text": [
      "12345\n"
     ]
    }
   ],
   "source": [
    "print(x)"
   ]
  },
  {
   "cell_type": "markdown",
   "id": "cd96a365-ebb0-4af6-851c-1528fb15a0a5",
   "metadata": {},
   "source": [
    "## Question 9"
   ]
  },
  {
   "cell_type": "code",
   "execution_count": 34,
   "id": "e3e3b83e-c1d0-4c97-80bd-e4b89535c9ed",
   "metadata": {},
   "outputs": [
    {
     "name": "stdin",
     "output_type": "stream",
     "text": [
      "Enter a password:  Aree2\\\n"
     ]
    },
    {
     "name": "stdout",
     "output_type": "stream",
     "text": [
      "Contains uppercase characters: True\n",
      "Contains lowercase characters: True\n",
      "Contains spaces: False\n",
      "Contains special characters: True\n"
     ]
    }
   ],
   "source": [
    "text = input(\"Enter a password: \")\n",
    "has_upper = text != text.lower()\n",
    "has_lower = text != text.upper()\n",
    "has_space = ' ' in text\n",
    "has_special = not text.replace(\" \", \"\").isalnum()\n",
    "print(f\"Contains uppercase characters: {has_upper}\")\n",
    "print(f\"Contains lowercase characters: {has_lower}\")\n",
    "print(f\"Contains spaces: {has_space}\")\n",
    "print(f\"Contains special characters: {has_special}\")\n"
   ]
  },
  {
   "cell_type": "markdown",
   "id": "e2349921-066e-4488-8eae-492bb58fa68d",
   "metadata": {},
   "source": [
    "## Question 10"
   ]
  },
  {
   "cell_type": "code",
   "execution_count": 13,
   "id": "09b6c2be-5923-481b-b450-b57da5f222a8",
   "metadata": {},
   "outputs": [
    {
     "name": "stdin",
     "output_type": "stream",
     "text": [
      "I love programming in Python: I love programming in Python\n"
     ]
    },
    {
     "name": "stdout",
     "output_type": "stream",
     "text": [
      "Longest word: programming\n"
     ]
    }
   ],
   "source": [
    "A = input(\"I love programming in Python:\")\n",
    "\n",
    "List = A.split()\n",
    "List.sort(key=len,reverse=True)\n",
    "print(\"Longest word: \" + List[0])"
   ]
  },
  {
   "cell_type": "code",
   "execution_count": null,
   "id": "081e5d48-690f-4d0f-8004-2ec8566409db",
   "metadata": {},
   "outputs": [],
   "source": []
  }
 ],
 "metadata": {
  "kernelspec": {
   "display_name": "Python 3 (ipykernel)",
   "language": "python",
   "name": "python3"
  },
  "language_info": {
   "codemirror_mode": {
    "name": "ipython",
    "version": 3
   },
   "file_extension": ".py",
   "mimetype": "text/x-python",
   "name": "python",
   "nbconvert_exporter": "python",
   "pygments_lexer": "ipython3",
   "version": "3.12.7"
  }
 },
 "nbformat": 4,
 "nbformat_minor": 5
}
