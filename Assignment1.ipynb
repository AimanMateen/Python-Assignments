{
 "cells": [
  {
   "cell_type": "markdown",
   "id": "4711a614-b380-4aea-9e2c-f5fe2b45e122",
   "metadata": {},
   "source": [
    "# ASSIGNMENT:1"
   ]
  },
  {
   "cell_type": "code",
   "execution_count": 108,
   "id": "825bd6f0-d9f3-48b6-a426-496b403f85be",
   "metadata": {},
   "outputs": [],
   "source": [
    "Salaries = [ \"20k\" , \"40k\", \"50k\" , \"60k\" , \"35k\" , \"89k\" , \"40k\" ]"
   ]
  },
  {
   "cell_type": "markdown",
   "id": "23937569-5512-4264-b98c-84f6553cfd7f",
   "metadata": {},
   "source": [
    "## Question : 1"
   ]
  },
  {
   "cell_type": "code",
   "execution_count": 33,
   "id": "49d90de7-ff62-4d06-a620-320dd2ab207d",
   "metadata": {},
   "outputs": [
    {
     "data": {
      "text/plain": [
       "7"
      ]
     },
     "execution_count": 33,
     "metadata": {},
     "output_type": "execute_result"
    }
   ],
   "source": [
    "len(Salaries)"
   ]
  },
  {
   "cell_type": "markdown",
   "id": "8698a7fb-2311-4e2a-89ff-4fbeb8968de6",
   "metadata": {},
   "source": [
    "## Question : 2"
   ]
  },
  {
   "cell_type": "code",
   "execution_count": 34,
   "id": "9fc928c5-e7d7-411b-8ea3-d1cc8c44d8d6",
   "metadata": {},
   "outputs": [
    {
     "data": {
      "text/plain": [
       "'50k'"
      ]
     },
     "execution_count": 34,
     "metadata": {},
     "output_type": "execute_result"
    }
   ],
   "source": [
    "Salaries[2]"
   ]
  },
  {
   "cell_type": "markdown",
   "id": "5073d4c4-996e-4f5d-93ea-26ccc04d7a6a",
   "metadata": {},
   "source": [
    "## Question : 3"
   ]
  },
  {
   "cell_type": "code",
   "execution_count": 42,
   "id": "54345e07-08fc-4805-9dc8-72ea923a081a",
   "metadata": {},
   "outputs": [
    {
     "data": {
      "text/plain": [
       "'40k'"
      ]
     },
     "execution_count": 42,
     "metadata": {},
     "output_type": "execute_result"
    }
   ],
   "source": [
    "Salaries[-1]"
   ]
  },
  {
   "cell_type": "markdown",
   "id": "1a4e7fb3-a1a3-4e92-9008-80e5817f6208",
   "metadata": {},
   "source": [
    "## Question : 4"
   ]
  },
  {
   "cell_type": "code",
   "execution_count": 41,
   "id": "a116b1c2-4c52-4040-9aa3-30cfe0c510d1",
   "metadata": {},
   "outputs": [
    {
     "data": {
      "text/plain": [
       "['50k', '60k', '35k']"
      ]
     },
     "execution_count": 41,
     "metadata": {},
     "output_type": "execute_result"
    }
   ],
   "source": [
    "Salaries[-5:-2]"
   ]
  },
  {
   "cell_type": "markdown",
   "id": "01f4ffb8-251a-48d7-98dc-935a6dea61b2",
   "metadata": {},
   "source": [
    "## Question : 5"
   ]
  },
  {
   "cell_type": "code",
   "execution_count": 80,
   "id": "71170aba-2a31-4cbd-909d-f49deb10719f",
   "metadata": {},
   "outputs": [
    {
     "name": "stdout",
     "output_type": "stream",
     "text": [
      "['20k', '40k', '50k', '60k', '35k', '89k', '40k', '120k', '100k']\n"
     ]
    }
   ],
   "source": [
    "Salaries.append(\"100k\")\n",
    "print(Salaries)"
   ]
  },
  {
   "cell_type": "markdown",
   "id": "d2f72f0b-bfeb-4eec-bd3e-2841c0505a80",
   "metadata": {},
   "source": [
    "## Question : 5"
   ]
  },
  {
   "cell_type": "code",
   "execution_count": 118,
   "id": "081f97fa-eefc-4a20-939c-d193257364b9",
   "metadata": {},
   "outputs": [
    {
     "name": "stdout",
     "output_type": "stream",
     "text": [
      "['20k', '40k', '50k', '60k', '35k', '89k', '40k', '120k']\n"
     ]
    }
   ],
   "source": [
    "Salaries = Salaries + [\"120k\"]\n",
    "print(Salaries)"
   ]
  },
  {
   "cell_type": "markdown",
   "id": "440176be-dca3-4b69-98c9-7fbb100c2ad5",
   "metadata": {},
   "source": [
    "## Question : 6"
   ]
  },
  {
   "cell_type": "code",
   "execution_count": 103,
   "id": "54f1eced-d0b9-48e2-bf9a-8f04756a1135",
   "metadata": {},
   "outputs": [
    {
     "name": "stdout",
     "output_type": "stream",
     "text": [
      "['40k', '89k', '55k', '60k', '50k', '40k', '20k']\n"
     ]
    }
   ],
   "source": [
    "Salaries[2]='55k'\n",
    "print(Salaries)"
   ]
  },
  {
   "cell_type": "markdown",
   "id": "73791336-668d-415b-b148-e47ed5a65fae",
   "metadata": {},
   "source": [
    "## Question : 7"
   ]
  },
  {
   "cell_type": "code",
   "execution_count": 79,
   "id": "fe9093d6-7b61-4ad9-99b4-4996245541a9",
   "metadata": {},
   "outputs": [
    {
     "data": {
      "text/plain": [
       "2"
      ]
     },
     "execution_count": 79,
     "metadata": {},
     "output_type": "execute_result"
    }
   ],
   "source": [
    "Salaries.count(\"40k\")"
   ]
  },
  {
   "cell_type": "markdown",
   "id": "48e4f262-a71f-4b2e-8083-42fceaf82207",
   "metadata": {},
   "source": [
    "## Question : 8"
   ]
  },
  {
   "cell_type": "code",
   "execution_count": 88,
   "id": "53c857c7-9828-4813-9300-b987c5275709",
   "metadata": {},
   "outputs": [
    {
     "name": "stdout",
     "output_type": "stream",
     "text": [
      "['20k', '70k', '70k', '70k', '70k', '70k', '40k', '70k', '50k', '60k', '35k', '89k', '40k', '120k', '100k']\n"
     ]
    }
   ],
   "source": [
    "Salaries.insert(1 ,\"70k\")\n",
    "print(Salaries)"
   ]
  },
  {
   "cell_type": "markdown",
   "id": "8f0e181e-c81f-4fef-aa16-f638b067596a",
   "metadata": {},
   "source": [
    "## Question : 9"
   ]
  },
  {
   "cell_type": "code",
   "execution_count": 100,
   "id": "50bcdd13-d046-4133-974e-5499804c16b4",
   "metadata": {},
   "outputs": [
    {
     "name": "stdout",
     "output_type": "stream",
     "text": [
      "['40k', '89k', '35k', '60k', '50k', '40k', '20k']\n"
     ]
    }
   ],
   "source": [
    "Salaries.reverse()\n",
    "print(Salaries)"
   ]
  },
  {
   "cell_type": "markdown",
   "id": "534a99a0-cc14-491f-8ef7-d18210eb0fe8",
   "metadata": {},
   "source": [
    "## Question : 10"
   ]
  },
  {
   "cell_type": "code",
   "execution_count": 101,
   "id": "c749e1aa-551a-4654-acbe-6ac7593b7d69",
   "metadata": {},
   "outputs": [
    {
     "name": "stdout",
     "output_type": "stream",
     "text": [
      "['40k', '89k', '35k', '60k', '50k', '40k', '20k']\n"
     ]
    }
   ],
   "source": [
    "Salaries[::-1]\n",
    "print(Salaries)"
   ]
  },
  {
   "cell_type": "code",
   "execution_count": null,
   "id": "4224e9fb-c08e-43e5-be6c-36374a9fe825",
   "metadata": {},
   "outputs": [],
   "source": []
  }
 ],
 "metadata": {
  "kernelspec": {
   "display_name": "Python 3 (ipykernel)",
   "language": "python",
   "name": "python3"
  },
  "language_info": {
   "codemirror_mode": {
    "name": "ipython",
    "version": 3
   },
   "file_extension": ".py",
   "mimetype": "text/x-python",
   "name": "python",
   "nbconvert_exporter": "python",
   "pygments_lexer": "ipython3",
   "version": "3.12.7"
  }
 },
 "nbformat": 4,
 "nbformat_minor": 5
}
